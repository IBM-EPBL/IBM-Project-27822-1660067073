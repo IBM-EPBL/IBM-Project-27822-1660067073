{
  "cells": [
    {
      "cell_type": "markdown",
      "id": "d91df71b",
      "metadata": {
        "id": "d91df71b"
      },
      "source": [
        "# MODEL BULIDING"
      ]
    },
    {
      "cell_type": "markdown",
      "id": "b181e4f0",
      "metadata": {
        "id": "b181e4f0"
      },
      "source": [
        "# Training And Testing The Model"
      ]
    },
    {
      "cell_type": "code",
      "execution_count": 55,
      "id": "46f040d4",
      "metadata": {
        "id": "46f040d4"
      },
      "outputs": [],
      "source": [
        "XGBoost=xgboost.XGBRFClassifier()\n",
        "Rand_forest=sklearn.ensemble.RandomForestClassifier()\n",
        "svm=sklearn.svm.SVC()\n",
        "Dtree=sklearn.tree.DecisionTreeClassifier()\n",
        "GBM=sklearn.ensemble.GradientBoostingClassifier()\n",
        "log=sklearn.linear_model.LogisticRegression()"
      ]
    },
    {
      "cell_type": "code",
      "execution_count": 56,
      "id": "d8344b9a",
      "metadata": {
        "colab": {
          "base_uri": "https://localhost:8080/"
        },
        "id": "d8344b9a",
        "outputId": "b4365a1f-7ee3-466a-c7e0-8163b9fc7cdc"
      },
      "outputs": [
        {
          "name": "stderr",
          "output_type": "stream",
          "text": [
            "/usr/local/lib/python3.7/dist-packages/sklearn/preprocessing/_label.py:98: DataConversionWarning: A column-vector y was passed when a 1d array was expected. Please change the shape of y to (n_samples, ), for example using ravel().\n",
            "  y = column_or_1d(y, warn=True)\n",
            "/usr/local/lib/python3.7/dist-packages/sklearn/preprocessing/_label.py:133: DataConversionWarning: A column-vector y was passed when a 1d array was expected. Please change the shape of y to (n_samples, ), for example using ravel().\n",
            "  y = column_or_1d(y, warn=True)\n",
            "/usr/local/lib/python3.7/dist-packages/ipykernel_launcher.py:3: DataConversionWarning: A column-vector y was passed when a 1d array was expected. Please change the shape of y to (n_samples,), for example using ravel().\n",
            "  This is separate from the ipykernel package so we can avoid doing imports until\n",
            "/usr/local/lib/python3.7/dist-packages/sklearn/utils/validation.py:993: DataConversionWarning: A column-vector y was passed when a 1d array was expected. Please change the shape of y to (n_samples, ), for example using ravel().\n",
            "  y = column_or_1d(y, warn=True)\n",
            "/usr/local/lib/python3.7/dist-packages/sklearn/ensemble/_gb.py:494: DataConversionWarning: A column-vector y was passed when a 1d array was expected. Please change the shape of y to (n_samples, ), for example using ravel().\n",
            "  y = column_or_1d(y, warn=True)\n",
            "/usr/local/lib/python3.7/dist-packages/sklearn/utils/validation.py:993: DataConversionWarning: A column-vector y was passed when a 1d array was expected. Please change the shape of y to (n_samples, ), for example using ravel().\n",
            "  y = column_or_1d(y, warn=True)\n"
          ]
        }
      ],
      "source": [
        "# Training the every model with Train data\n",
        "model1=XGBoost.fit(x_train,y_train)\n",
        "model2=Rand_forest.fit(x_train,y_train)\n",
        "model3=svm.fit(x_train,y_train)\n",
        "model4=Dtree.fit(x_train,y_train)\n",
        "model5=GBM.fit(x_train,y_train)\n",
        "model6=log.fit(x_train,y_train)"
      ]
    },
    {
      "cell_type": "code",
      "execution_count": 57,
      "id": "640699fe",
      "metadata": {
        "id": "640699fe"
      },
      "outputs": [],
      "source": [
        "# predicting the test data with every algorithm\n",
        "y_pred_xg=model1.predict(x_test)\n",
        "y_pred_rf=model2.predict(x_test)\n",
        "y_pred_svm=model3.predict(x_test)\n",
        "y_pred_dt=model4.predict(x_test)\n",
        "y_pred_gbm=model5.predict(x_test)\n",
        "y_pred_log=model6.predict(x_test)"
      ]
    },
    {
      "cell_type": "code",
      "execution_count": 58,
      "id": "S5gm9HJ8w8Hp",
      "metadata": {
        "colab": {
          "base_uri": "https://localhost:8080/"
        },
        "id": "S5gm9HJ8w8Hp",
        "outputId": "aa0942b4-7547-4382-8365-3a5b760e53ec"
      },
      "outputs": [
        {
          "name": "stdout",
          "output_type": "stream",
          "text": [
            "0.8326242132283133\n",
            "0.8527726010056612\n",
            "0.8494321178663103\n",
            "0.7724955167199972\n",
            "0.8474278279826998\n",
            "0.8419424030380815\n"
          ]
        }
      ],
      "source": [
        "#Checking  all the performances of the models\n",
        "from sklearn.metrics import accuracy_score\n",
        "print(accuracy_score(y_test,y_pred_xg))\n",
        "print(accuracy_score(y_test,y_pred_rf))\n",
        "print(accuracy_score(y_test,y_pred_svm))\n",
        "print(accuracy_score(y_test,y_pred_dt))\n",
        "print(accuracy_score(y_test,y_pred_gbm))\n",
        "print(accuracy_score(y_test,y_pred_log))"
      ]
    },
    {
      "cell_type": "code",
      "execution_count": 59,
      "id": "iLCSv4mT2lVY",
      "metadata": {
        "colab": {
          "base_uri": "https://localhost:8080/"
        },
        "id": "iLCSv4mT2lVY",
        "outputId": "68652822-7820-460b-a444-16005a9cddec"
      },
      "outputs": [
        {
          "name": "stdout",
          "output_type": "stream",
          "text": [
            "accuracy_score of final model: 0.8527726010056612\n"
          ]
        }
      ],
      "source": [
        "#After checking all the models Random Forest Regression accuracy is very high\n",
        "print(\"accuracy_score of final model:\",accuracy_score(y_test,y_pred_rf))"
      ]
    },
    {
      "cell_type": "code",
      "execution_count": 60,
      "id": "Hr1aJxts32sO",
      "metadata": {
        "colab": {
          "base_uri": "https://localhost:8080/"
        },
        "id": "Hr1aJxts32sO",
        "outputId": "75a9e56d-1005-4a00-b519-94c6a5203e29"
      },
      "outputs": [
        {
          "name": "stdout",
          "output_type": "stream",
          "text": [
            "              precision    recall  f1-score   support\n",
            "\n",
            "           0       0.95      0.87      0.91     24230\n",
            "           1       0.50      0.76      0.60      4209\n",
            "\n",
            "    accuracy                           0.85     28439\n",
            "   macro avg       0.73      0.81      0.76     28439\n",
            "weighted avg       0.89      0.85      0.86     28439\n",
            "\n"
          ]
        }
      ],
      "source": [
        "#classication report for Random Forest Regression\n",
        "from sklearn.metrics import classification_report,confusion_matrix\n",
        "print(classification_report(y_pred_rf,y_test))"
      ]
    },
    {
      "cell_type": "code",
      "execution_count": 61,
      "id": "ud481bif4rR5",
      "metadata": {
        "colab": {
          "base_uri": "https://localhost:8080/"
        },
        "id": "ud481bif4rR5",
        "outputId": "c32ba278-a3db-4b88-d54a-bee8d96ec922"
      },
      "outputs": [
        {
          "data": {
            "text/plain": [
              "array([[21055,  1012],\n",
              "       [ 3175,  3197]])"
            ]
          },
          "execution_count": 61,
          "metadata": {},
          "output_type": "execute_result"
        }
      ],
      "source": [
        "#confusion matrix\n",
        "confusion_matrix(y_test,y_pred_rf)"
      ]
    },
    {
      "cell_type": "code",
      "execution_count": 62,
      "id": "fLyz9BV35KEl",
      "metadata": {
        "colab": {
          "base_uri": "https://localhost:8080/",
          "height": 282
        },
        "id": "fLyz9BV35KEl",
        "outputId": "c6598c92-d80c-4e01-8b13-1d2794854934"
      },
      "outputs": [
        {
          "data": {
            "text/plain": [
              "<matplotlib.axes._subplots.AxesSubplot at 0x7ff607c32090>"
            ]
          },
          "execution_count": 62,
          "metadata": {},
          "output_type": "execute_result"
        },
        {
          "data": {
            "image/png": "[encoded data removed]",
            "text/plain": [
              "<Figure size 432x288 with 2 Axes>"
            ]
          },
          "metadata": {
            "needs_background": "light"
          },
          "output_type": "display_data"
        }
      ],
      "source": [
        "# Heat map of confusion matrix for Random Forest Regression algorithm\n",
        "sns.heatmap(confusion_matrix(y_test,y_pred_rf))"
      ]
    }
  ],
  "metadata": {
    "colab": {
      "provenance": []
    },
    "kernelspec": {
      "display_name": "Python 3 (ipykernel)",
      "language": "python",
      "name": "python3"
    },
    "language_info": {
      "codemirror_mode": {
        "name": "ipython",
        "version": 3
      },
      "file_extension": ".py",
      "mimetype": "text/x-python",
      "name": "python",
      "nbconvert_exporter": "python",
      "pygments_lexer": "ipython3",
      "version": "3.9.7"
    }
  },
  "nbformat": 4,
  "nbformat_minor": 5
}
