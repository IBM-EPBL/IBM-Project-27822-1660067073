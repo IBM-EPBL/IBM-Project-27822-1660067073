{
  "cells": [
    {
      "cell_type": "markdown",
      "id": "d91df71b",
      "metadata": {
        "id": "d91df71b"
      },
      "source": [
        "# MODEL BULIDING"
      ]
    },
    {
      "cell_type": "markdown",
      "id": "b181e4f0",
      "metadata": {
        "id": "b181e4f0"
      },
      "source": [
        "# Training And Testing The Model"
      ]
    },
    {
      "cell_type": "code",
      "execution_count": 55,
      "id": "46f040d4",
      "metadata": {
        "id": "46f040d4"
      },
      "outputs": [],
      "source": [
        "XGBoost=xgboost.XGBRFClassifier()\n",
        "Rand_forest=sklearn.ensemble.RandomForestClassifier()\n",
        "svm=sklearn.svm.SVC()\n",
        "Dtree=sklearn.tree.DecisionTreeClassifier()\n",
        "GBM=sklearn.ensemble.GradientBoostingClassifier()\n",
        "log=sklearn.linear_model.LogisticRegression()"
      ]
    },
    {
      "cell_type": "code",
      "execution_count": 56,
      "id": "d8344b9a",
      "metadata": {
        "colab": {
          "base_uri": "https://localhost:8080/"
        },
        "id": "d8344b9a",
        "outputId": "b4365a1f-7ee3-466a-c7e0-8163b9fc7cdc"
      },
      "outputs": [
        {
          "name": "stderr",
          "output_type": "stream",
          "text": [
            "/usr/local/lib/python3.7/dist-packages/sklearn/preprocessing/_label.py:98: DataConversionWarning: A column-vector y was passed when a 1d array was expected. Please change the shape of y to (n_samples, ), for example using ravel().\n",
            "  y = column_or_1d(y, warn=True)\n",
            "/usr/local/lib/python3.7/dist-packages/sklearn/preprocessing/_label.py:133: DataConversionWarning: A column-vector y was passed when a 1d array was expected. Please change the shape of y to (n_samples, ), for example using ravel().\n",
            "  y = column_or_1d(y, warn=True)\n",
            "/usr/local/lib/python3.7/dist-packages/ipykernel_launcher.py:3: DataConversionWarning: A column-vector y was passed when a 1d array was expected. Please change the shape of y to (n_samples,), for example using ravel().\n",
            "  This is separate from the ipykernel package so we can avoid doing imports until\n",
            "/usr/local/lib/python3.7/dist-packages/sklearn/utils/validation.py:993: DataConversionWarning: A column-vector y was passed when a 1d array was expected. Please change the shape of y to (n_samples, ), for example using ravel().\n",
            "  y = column_or_1d(y, warn=True)\n",
            "/usr/local/lib/python3.7/dist-packages/sklearn/ensemble/_gb.py:494: DataConversionWarning: A column-vector y was passed when a 1d array was expected. Please change the shape of y to (n_samples, ), for example using ravel().\n",
            "  y = column_or_1d(y, warn=True)\n",
            "/usr/local/lib/python3.7/dist-packages/sklearn/utils/validation.py:993: DataConversionWarning: A column-vector y was passed when a 1d array was expected. Please change the shape of y to (n_samples, ), for example using ravel().\n",
            "  y = column_or_1d(y, warn=True)\n"
          ]
        }
      ],
      "source": [
        "# Training the every model with Train data\n",
        "model1=XGBoost.fit(x_train,y_train)\n",
        "model2=Rand_forest.fit(x_train,y_train)\n",
        "model3=svm.fit(x_train,y_train)\n",
        "model4=Dtree.fit(x_train,y_train)\n",
        "model5=GBM.fit(x_train,y_train)\n",
        "model6=log.fit(x_train,y_train)"
      ]
    },
    {
      "cell_type": "code",
      "execution_count": 57,
      "id": "640699fe",
      "metadata": {
        "id": "640699fe"
      },
      "outputs": [],
      "source": [
        "# predicting the test data with every algorithm\n",
        "y_pred_xg=model1.predict(x_test)\n",
        "y_pred_rf=model2.predict(x_test)\n",
        "y_pred_svm=model3.predict(x_test)\n",
        "y_pred_dt=model4.predict(x_test)\n",
        "y_pred_gbm=model5.predict(x_test)\n",
        "y_pred_log=model6.predict(x_test)"
      ]
    }
  ],
  "metadata": {
    "colab": {
      "provenance": []
    },
    "kernelspec": {
      "display_name": "Python 3 (ipykernel)",
      "language": "python",
      "name": "python3"
    },
    "language_info": {
      "codemirror_mode": {
        "name": "ipython",
        "version": 3
      },
      "file_extension": ".py",
      "mimetype": "text/x-python",
      "name": "python",
      "nbconvert_exporter": "python",
      "pygments_lexer": "ipython3",
      "version": "3.9.7"
    }
  },
  "nbformat": 4,
  "nbformat_minor": 5
}
